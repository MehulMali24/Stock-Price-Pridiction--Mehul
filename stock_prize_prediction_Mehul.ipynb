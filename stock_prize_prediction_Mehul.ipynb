{
  "nbformat": 4,
  "nbformat_minor": 0,
  "metadata": {
    "colab": {
      "name": "stock prize  prediction-Mehul",
      "provenance": [],
      "collapsed_sections": [],
      "authorship_tag": "ABX9TyP/1VCvJhZ5k3lV5/D0RAM8",
      "include_colab_link": true
    },
    "kernelspec": {
      "name": "python3",
      "display_name": "Python 3"
    }
  },
  "cells": [
    {
      "cell_type": "markdown",
      "metadata": {
        "id": "view-in-github",
        "colab_type": "text"
      },
      "source": [
        "<a href=\"https://colab.research.google.com/github/MehulMali24/Stock-Price-Pridiction--Mehul/blob/main/stock_prize_prediction_Mehul.ipynb\" target=\"_parent\"><img src=\"https://colab.research.google.com/assets/colab-badge.svg\" alt=\"Open In Colab\"/></a>"
      ]
    },
    {
      "cell_type": "code",
      "metadata": {
        "id": "Pt1swI059WW2"
      },
      "source": [
        "pip install quandl"
      ],
      "execution_count": null,
      "outputs": []
    },
    {
      "cell_type": "code",
      "metadata": {
        "id": "Le9070o6vG3S"
      },
      "source": [
        "\n",
        "import quandl\n",
        "import numpy as np\n",
        "from sklearn.linear_model import  LinearRegression\n",
        "from sklearn.svm import SVR\n",
        "from sklearn.model_selection import train_test_split\n",
        "\n"
      ],
      "execution_count": 4,
      "outputs": []
    },
    {
      "cell_type": "code",
      "metadata": {
        "id": "oZ4KiQ_-zQzB",
        "outputId": "32963e41-b77e-4205-c5eb-81627ec40788",
        "colab": {
          "base_uri": "https://localhost:8080/",
          "height": 170
        }
      },
      "source": [
        "import quandl\n",
        "df= quandl.get(\"WIKI/FB\")\n",
        "print(df.head())"
      ],
      "execution_count": 5,
      "outputs": [
        {
          "output_type": "stream",
          "text": [
            "             Open   High    Low  ...  Adj. Low  Adj. Close  Adj. Volume\n",
            "Date                             ...                                   \n",
            "2012-05-18  42.05  45.00  38.00  ...     38.00     38.2318  573576400.0\n",
            "2012-05-21  36.53  36.66  33.00  ...     33.00     34.0300  168192700.0\n",
            "2012-05-22  32.61  33.59  30.94  ...     30.94     31.0000  101786600.0\n",
            "2012-05-23  31.37  32.50  31.36  ...     31.36     32.0000   73600000.0\n",
            "2012-05-24  32.95  33.21  31.77  ...     31.77     33.0300   50237200.0\n",
            "\n",
            "[5 rows x 12 columns]\n"
          ],
          "name": "stdout"
        }
      ]
    },
    {
      "cell_type": "code",
      "metadata": {
        "id": "6xcUmzGO6z85",
        "outputId": "086715ea-4305-4086-ea7d-5957327a78bb",
        "colab": {
          "base_uri": "https://localhost:8080/",
          "height": 136
        }
      },
      "source": [
        "df = df[['Adj. Close']]\n",
        "print(df.head())"
      ],
      "execution_count": 6,
      "outputs": [
        {
          "output_type": "stream",
          "text": [
            "            Adj. Close\n",
            "Date                  \n",
            "2012-05-18     38.2318\n",
            "2012-05-21     34.0300\n",
            "2012-05-22     31.0000\n",
            "2012-05-23     32.0000\n",
            "2012-05-24     33.0300\n"
          ],
          "name": "stdout"
        }
      ]
    },
    {
      "cell_type": "code",
      "metadata": {
        "id": "RBA8AE-c8FLN",
        "outputId": "997d69b2-6f14-4dc7-9f57-c1d63cc38c2c",
        "colab": {
          "base_uri": "https://localhost:8080/",
          "height": 136
        }
      },
      "source": [
        "  forecast_out= 30\n",
        "df['Prediction'] = df[['Adj. Close']].shift(-forecast_out)\n",
        "\n",
        "print(df.tail())\n"
      ],
      "execution_count": 8,
      "outputs": [
        {
          "output_type": "stream",
          "text": [
            "            Adj. Close  Prediction\n",
            "Date                              \n",
            "2018-03-21      169.39         NaN\n",
            "2018-03-22      164.89         NaN\n",
            "2018-03-23      159.39         NaN\n",
            "2018-03-26      160.06         NaN\n",
            "2018-03-27      152.19         NaN\n"
          ],
          "name": "stdout"
        }
      ]
    },
    {
      "cell_type": "code",
      "metadata": {
        "id": "OTZgNkYxwYXg"
      },
      "source": [
        "X = np.array(df.drop(['Prediction'],1))\n",
        "X = X[:-forecast_out]\n",
        "print(X)"
      ],
      "execution_count": null,
      "outputs": []
    },
    {
      "cell_type": "code",
      "metadata": {
        "id": "DpdLxu_J9tz_"
      },
      "source": [
        "y = np.array(df['Prediction'])\n",
        "y = y[:-forecast_out]\n",
        "print(y)"
      ],
      "execution_count": null,
      "outputs": []
    },
    {
      "cell_type": "code",
      "metadata": {
        "id": "_ni5cnl191By"
      },
      "source": [
        "X_train, X_test, y_train, y_test = train_test_split(X, y, test_size=0.2)"
      ],
      "execution_count": 12,
      "outputs": []
    },
    {
      "cell_type": "code",
      "metadata": {
        "id": "T1yN38Ts95b6",
        "outputId": "96c5978f-a69c-464d-9f5a-48fa44ee6d6c",
        "colab": {
          "base_uri": "https://localhost:8080/",
          "height": 51
        }
      },
      "source": [
        "svr_rbf = SVR(kernel='rbf', C=1e3, gamma=0.1)\n",
        "svr_rbf.fit(X_train, y_train)"
      ],
      "execution_count": 13,
      "outputs": [
        {
          "output_type": "execute_result",
          "data": {
            "text/plain": [
              "SVR(C=1000.0, cache_size=200, coef0=0.0, degree=3, epsilon=0.1, gamma=0.1,\n",
              "    kernel='rbf', max_iter=-1, shrinking=True, tol=0.001, verbose=False)"
            ]
          },
          "metadata": {
            "tags": []
          },
          "execution_count": 13
        }
      ]
    },
    {
      "cell_type": "code",
      "metadata": {
        "id": "JxclRqAG9-Ah",
        "outputId": "0bc77013-617a-49ca-eda9-b4578474682d",
        "colab": {
          "base_uri": "https://localhost:8080/",
          "height": 34
        }
      },
      "source": [
        "svm_confidence =svr_rbf.score(X_test, y_test)\n",
        "print(\"svm confidence: \", svm_confidence)"
      ],
      "execution_count": 14,
      "outputs": [
        {
          "output_type": "stream",
          "text": [
            "svm confidence:  0.9831614283386952\n"
          ],
          "name": "stdout"
        }
      ]
    },
    {
      "cell_type": "code",
      "metadata": {
        "id": "IEU1Hvfn-Bra",
        "outputId": "7c4307a3-45a8-4040-adc0-432e18b0e1f9",
        "colab": {
          "base_uri": "https://localhost:8080/",
          "height": 34
        }
      },
      "source": [
        "lr = LinearRegression()\n",
        "lr.fit(X_train, y_train)"
      ],
      "execution_count": 15,
      "outputs": [
        {
          "output_type": "execute_result",
          "data": {
            "text/plain": [
              "LinearRegression(copy_X=True, fit_intercept=True, n_jobs=None, normalize=False)"
            ]
          },
          "metadata": {
            "tags": []
          },
          "execution_count": 15
        }
      ]
    },
    {
      "cell_type": "code",
      "metadata": {
        "id": "F4YN3CKz-ENS",
        "outputId": "88d03d1b-5700-411f-bcb9-54ff78109480",
        "colab": {
          "base_uri": "https://localhost:8080/",
          "height": 34
        }
      },
      "source": [
        "lr_confidence =lr.score(X_test, y_test)\n",
        "print(\"lr confidence: \", svm_confidence)"
      ],
      "execution_count": 16,
      "outputs": [
        {
          "output_type": "stream",
          "text": [
            "lr confidence:  0.9831614283386952\n"
          ],
          "name": "stdout"
        }
      ]
    },
    {
      "cell_type": "code",
      "metadata": {
        "id": "weDtMlhb-Iwh",
        "outputId": "3f2a9c3f-1045-40c1-a4ec-cb0e9994efc7",
        "colab": {
          "base_uri": "https://localhost:8080/",
          "height": 527
        }
      },
      "source": [
        "X_forecast = np.array(df.drop(['Prediction'],1))[-forecast_out:]\n",
        "print(X_forecast)"
      ],
      "execution_count": 17,
      "outputs": [
        {
          "output_type": "stream",
          "text": [
            "[[173.15]\n",
            " [179.52]\n",
            " [179.96]\n",
            " [177.36]\n",
            " [176.01]\n",
            " [177.91]\n",
            " [178.99]\n",
            " [183.29]\n",
            " [184.93]\n",
            " [181.46]\n",
            " [178.32]\n",
            " [175.94]\n",
            " [176.62]\n",
            " [180.4 ]\n",
            " [179.78]\n",
            " [183.71]\n",
            " [182.34]\n",
            " [185.23]\n",
            " [184.76]\n",
            " [181.88]\n",
            " [184.19]\n",
            " [183.86]\n",
            " [185.09]\n",
            " [172.56]\n",
            " [168.15]\n",
            " [169.39]\n",
            " [164.89]\n",
            " [159.39]\n",
            " [160.06]\n",
            " [152.19]]\n"
          ],
          "name": "stdout"
        }
      ]
    },
    {
      "cell_type": "code",
      "metadata": {
        "id": "mj2EOiRT-RvR",
        "outputId": "80837e6c-73d2-41ae-cd6f-b95ff6e2774d",
        "colab": {
          "base_uri": "https://localhost:8080/",
          "height": 221
        }
      },
      "source": [
        "lr_prediction = lr.predict(X_forecast)\n",
        "print(lr_prediction)\n",
        "svm_prediction = svr_rbf.predict(X_forecast)\n",
        "print(svm_prediction)\n"
      ],
      "execution_count": 18,
      "outputs": [
        {
          "output_type": "stream",
          "text": [
            "[177.06399213 183.48807337 183.93180897 181.30973499 179.94827351\n",
            " 181.86440449 182.95357368 187.29008064 188.94400422 185.44454395\n",
            " 182.27788538 179.87767921 180.5634524  184.37554456 183.75028077\n",
            " 187.71364643 186.33201515 189.24655122 188.77256092 185.86810975\n",
            " 188.19772163 187.86491993 189.10536262 176.46898304 172.02154218\n",
            " 173.27206977 168.73386481 163.18716986 163.86285815 155.92604193]\n",
            "[174.70594111 180.45602337 179.45196998 175.25678498 175.0270117\n",
            " 177.31790052 180.78941574 186.9071144  179.38169396 181.43096712\n",
            " 179.07465576 175.12006413 174.39364559 178.65444864 179.88959959\n",
            " 184.79742369 186.63719394 179.446674   179.63736012 184.07450292\n",
            " 181.93426918 183.89425662 179.33751294 175.36683195 172.01495455\n",
            " 173.04063773 172.16124324 167.93466345 166.15347325 159.7617171 ]\n"
          ],
          "name": "stdout"
        }
      ]
    },
    {
      "cell_type": "code",
      "metadata": {
        "id": "Kp-ArmH5-Xlp"
      },
      "source": [
        "import pickle"
      ],
      "execution_count": 19,
      "outputs": []
    },
    {
      "cell_type": "code",
      "metadata": {
        "id": "XUCa5FdT-a-Q"
      },
      "source": [
        "filename= \"Stock_Price_Prediction_-Mehul\"\n",
        "pickle.dump(lr,open(filename,'wb'))"
      ],
      "execution_count": 20,
      "outputs": []
    },
    {
      "cell_type": "code",
      "metadata": {
        "id": "srfEgCmg-dW6"
      },
      "source": [
        "loaded_model = pickle.load(open(filename, 'rb'))\n",
        "result =loaded_model.score(X_test, y_test)"
      ],
      "execution_count": 21,
      "outputs": []
    },
    {
      "cell_type": "code",
      "metadata": {
        "id": "_KXBrTHI-fRI"
      },
      "source": [
        "filename= \"Stock_Price_Prediction_-Mehul\"\n",
        "pickle.dump(svr_rbf,open(filename,'wb'))"
      ],
      "execution_count": null,
      "outputs": []
    },
    {
      "cell_type": "code",
      "metadata": {
        "id": "CVQp8icp-i2Y"
      },
      "source": [
        "loaded_model = pickle.load(open(filename, 'rb'))\n",
        "result =loaded_model.score(X_test, y_test)"
      ],
      "execution_count": 22,
      "outputs": []
    }
  ]
}